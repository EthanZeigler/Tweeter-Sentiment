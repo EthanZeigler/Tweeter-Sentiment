{
 "cells": [
  {
   "cell_type": "code",
   "execution_count": 1,
   "metadata": {},
   "outputs": [],
   "source": [
    "import pandas as pd\n",
    "import codecs, json\n",
    "import os\n",
    "import matplotlib.pyplot as plt\n",
    "\n",
    "from vaderSentiment.vaderSentiment import SentimentIntensityAnalyzer\n",
    "from IPython.display import display, HTML\n",
    "\n",
    "analyzer = SentimentIntensityAnalyzer()\n",
    "\n",
    "PRINT_RAW = False"
   ]
  },
  {
   "cell_type": "code",
   "execution_count": 2,
   "metadata": {},
   "outputs": [],
   "source": [
    "def get_df(path):\n",
    "    return pd.read_json(path)\n",
    "\n",
    "# filter columns\n",
    "def select_applicable(df):\n",
    "    df = df[['hashtags', 'is_reply_to', 'likes', 'retweets', 'screen_name', 'text', 'timestamp', 'tweet_url', 'username']]\n",
    "    return df.drop_duplicates(subset='tweet_url')\n",
    "\n",
    "def analyze_sentiment(df):\n",
    "    sentiments = df.apply(lambda x: analyzer.polarity_scores(x['text']), axis=1, result_type='expand')\n",
    "    return pd.merge(df, sentiments, left_index=True, right_index=True)"
   ]
  },
  {
   "cell_type": "code",
   "execution_count": 3,
   "metadata": {},
   "outputs": [
    {
     "name": "stdout",
     "output_type": "stream",
     "text": [
      "DisguisedToast.json complete\n",
      "iamdevloper.json complete\n",
      "michaelreeves.json complete\n",
      "Scarra.json complete\n",
      "BarackObama.json complete\n",
      "elonmusk.json complete\n",
      "taylorswift13.json complete\n",
      "trump_tweets.json complete\n",
      "katyperry.json complete\n",
      "BrunoMars.json complete\n",
      "LilyPichu.json complete\n",
      "EmmaWatson.json complete\n",
      "Fedmyster.json complete\n"
     ]
    }
   ],
   "source": [
    "if __name__ == '__main__':\n",
    "    for file in os.listdir('.'):\n",
    "        if not file.endswith('.json'): continue\n",
    "        df = get_df(file)\n",
    "        df = select_applicable(df)\n",
    "        df = analyze_sentiment(df)\n",
    "        output_name = file[:len(file) - 5] + \"_sentiment.csv\"\n",
    "        df.to_csv(output_name, index=False)\n",
    "        if PRINT_RAW:\n",
    "            display(df)\n",
    "        else:\n",
    "            print(f'{file} complete')"
   ]
  },
  {
   "cell_type": "code",
   "execution_count": null,
   "metadata": {},
   "outputs": [],
   "source": []
  }
 ],
 "metadata": {
  "kernelspec": {
   "display_name": "Python 3",
   "language": "python",
   "name": "python3"
  },
  "language_info": {
   "codemirror_mode": {
    "name": "ipython",
    "version": 3
   },
   "file_extension": ".py",
   "mimetype": "text/x-python",
   "name": "python",
   "nbconvert_exporter": "python",
   "pygments_lexer": "ipython3",
   "version": "3.7.6"
  }
 },
 "nbformat": 4,
 "nbformat_minor": 2
}
